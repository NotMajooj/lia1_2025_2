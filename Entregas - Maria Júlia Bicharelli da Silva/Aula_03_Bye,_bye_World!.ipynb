{
  "cells": [
    {
      "cell_type": "markdown",
      "metadata": {
        "id": "view-in-github",
        "colab_type": "text"
      },
      "source": [
        "<a href=\"https://colab.research.google.com/github/NotMajooj/lia1_2025_2/blob/main/Entregas%20-%20Maria%20J%C3%BAlia%20Bicharelli%20da%20Silva/Aula_03_Bye%2C_bye_World!.ipynb\" target=\"_parent\"><img src=\"https://colab.research.google.com/assets/colab-badge.svg\" alt=\"Open In Colab\"/></a>"
      ]
    },
    {
      "cell_type": "markdown",
      "metadata": {
        "id": "t3ww28Zjl6Lo"
      },
      "source": [
        "##### <hr style=\"height:10px\">\n",
        "\n",
        "<div class='container2'>\n",
        "\t\t<div>\n",
        "\t\t\t<img src='images\\header.png' ALIGN='left' style='width:10em'>\n",
        "\t\t</div>\n",
        "\t<div style='padding: 0 7em 2em 12em;'>\n",
        "\t<h1>Laboratório de Inovação e Automação 1 (LIA 1)</h1>\n",
        "\t<div style=\"font-size:12pt;float:left;\"> 2025/1 | 24M34 | Sala 200 CAE</div><br><br>\n",
        "    <div style=\"font-size:12pt;float:left;\"><b>Projetos de Inteligência Artificial</b></div>\n",
        "\t</div>\n",
        "</div>\n",
        "\n",
        "\n",
        " <hr style=\"height:5px\">\n",
        "\n",
        "    \n",
        "<h2>Introdução ao Ambiente de Projetos - Python</h2>\n",
        "\n",
        "Notebook desenvolvido por: <a href=\"http://lattes.cnpq.br/1346824250595330\">Prof. Dr. Adriano C. Santana</a>\n",
        "\n",
        " <hr style=\"height:2px\">\n"
      ]
    },
    {
      "cell_type": "markdown",
      "metadata": {
        "id": "wSq89Cxyl6Lx"
      },
      "source": [
        "[Tudo sobre o Python, clique aqui!](https://docs.python.org/pt-br/3/tutorial/)"
      ]
    },
    {
      "cell_type": "code",
      "execution_count": null,
      "metadata": {
        "id": "wALOHKu0l6Ly",
        "outputId": "af473186-4dea-4f10-eb81-b4eefc4761df"
      },
      "outputs": [
        {
          "name": "stdout",
          "output_type": "stream",
          "text": [
            "A versão em uso é 3.12.7.\n"
          ]
        }
      ],
      "source": [
        "from platform import python_version\n",
        "print(f'A versão em uso é {python_version()}.')"
      ]
    },
    {
      "cell_type": "code",
      "execution_count": null,
      "metadata": {
        "id": "3VoWmozdl6L0",
        "outputId": "88cf428a-acdc-44af-e43a-ab6b370a0cf8"
      },
      "outputs": [
        {
          "data": {
            "text/plain": [
              "'3.12.7'"
            ]
          },
          "execution_count": 7,
          "metadata": {},
          "output_type": "execute_result"
        }
      ],
      "source": [
        "python_version()"
      ]
    },
    {
      "cell_type": "code",
      "execution_count": null,
      "metadata": {
        "id": "aDdMCJLll6L1",
        "outputId": "2620bb82-c132-430a-b6a4-2ec475df65d8"
      },
      "outputs": [
        {
          "name": "stdout",
          "output_type": "stream",
          "text": [
            "Bye bye, World!\n"
          ]
        }
      ],
      "source": [
        "# Verificar se o Python está funcionando\n",
        "print('Bye bye, World!')"
      ]
    },
    {
      "cell_type": "markdown",
      "metadata": {
        "id": "63EpbYlKl6L1"
      },
      "source": [
        "#### Operadores Aritméticos"
      ]
    },
    {
      "cell_type": "code",
      "execution_count": null,
      "metadata": {
        "id": "by4OCEpIl6L1",
        "outputId": "0d422429-e230-43fe-9cf4-13a1e832494b"
      },
      "outputs": [
        {
          "data": {
            "text/plain": [
              "2"
            ]
          },
          "execution_count": 11,
          "metadata": {},
          "output_type": "execute_result"
        }
      ],
      "source": [
        "# Adição\n",
        "1 + 1"
      ]
    },
    {
      "cell_type": "code",
      "execution_count": null,
      "metadata": {
        "id": "Ay-M7-l6l6L2",
        "outputId": "d24441b6-62fe-4dce-c8e0-b94c67e05c40"
      },
      "outputs": [
        {
          "data": {
            "text/plain": [
              "1"
            ]
          },
          "execution_count": 13,
          "metadata": {},
          "output_type": "execute_result"
        }
      ],
      "source": [
        "# Subtração\n",
        "2 - 1"
      ]
    },
    {
      "cell_type": "code",
      "execution_count": null,
      "metadata": {
        "id": "HXDe9UIMl6L2",
        "outputId": "1bc43e46-4ed1-4e56-ab3e-a681895da435"
      },
      "outputs": [
        {
          "data": {
            "text/plain": [
              "4"
            ]
          },
          "execution_count": 15,
          "metadata": {},
          "output_type": "execute_result"
        }
      ],
      "source": [
        "# Multiplicação\n",
        "2 * 2"
      ]
    },
    {
      "cell_type": "code",
      "execution_count": null,
      "metadata": {
        "id": "aHRQFBlvl6L3",
        "outputId": "81ea5f23-143a-4b3f-931c-2122055c3678"
      },
      "outputs": [
        {
          "data": {
            "text/plain": [
              "1.5"
            ]
          },
          "execution_count": 17,
          "metadata": {},
          "output_type": "execute_result"
        }
      ],
      "source": [
        "# Divisão\n",
        "3 / 2"
      ]
    },
    {
      "cell_type": "code",
      "execution_count": null,
      "metadata": {
        "id": "u08UAJiKl6L3",
        "outputId": "2bd4b985-5d00-4e67-c482-0be5c92510eb"
      },
      "outputs": [
        {
          "data": {
            "text/plain": [
              "16"
            ]
          },
          "execution_count": 19,
          "metadata": {},
          "output_type": "execute_result"
        }
      ],
      "source": [
        "# Potência\n",
        "4 ** 2"
      ]
    },
    {
      "cell_type": "code",
      "execution_count": null,
      "metadata": {
        "id": "NI9YGUkal6L4",
        "outputId": "0b6d5d4b-9545-4b15-ff4d-66f526ae2fe2"
      },
      "outputs": [
        {
          "data": {
            "text/plain": [
              "1"
            ]
          },
          "execution_count": 21,
          "metadata": {},
          "output_type": "execute_result"
        }
      ],
      "source": [
        "# Módulo (resto da divisão)\n",
        "10 % 3"
      ]
    },
    {
      "cell_type": "markdown",
      "metadata": {
        "id": "JZL1XIEfl6L4"
      },
      "source": [
        "#### Tipo de Dados (Type)"
      ]
    },
    {
      "cell_type": "code",
      "execution_count": null,
      "metadata": {
        "id": "dMhwS0KKl6L4",
        "outputId": "c1b9a0de-5067-4743-c2bd-83b464091930"
      },
      "outputs": [
        {
          "data": {
            "text/plain": [
              "int"
            ]
          },
          "execution_count": 23,
          "metadata": {},
          "output_type": "execute_result"
        }
      ],
      "source": [
        "# Qual o tipo do (?) -> Inteiro\n",
        "type(5)"
      ]
    },
    {
      "cell_type": "code",
      "execution_count": null,
      "metadata": {
        "id": "ItI1HFapl6L4",
        "outputId": "3c9524a3-5d2d-46fb-91bc-cff08fbe9f3a"
      },
      "outputs": [
        {
          "data": {
            "text/plain": [
              "float"
            ]
          },
          "execution_count": 25,
          "metadata": {},
          "output_type": "execute_result"
        }
      ],
      "source": [
        "# Qual o tipo do (?) -> Float - Decimal\n",
        "type(5.0)"
      ]
    },
    {
      "cell_type": "code",
      "execution_count": null,
      "metadata": {
        "id": "OzccPPmWl6L5",
        "outputId": "a9865c26-2d9a-4a57-b770-36b6a6659998"
      },
      "outputs": [
        {
          "data": {
            "text/plain": [
              "str"
            ]
          },
          "execution_count": 27,
          "metadata": {},
          "output_type": "execute_result"
        }
      ],
      "source": [
        "# Qual o tipo do (?) -> String\n",
        "a = 'Estudando Python!'\n",
        "type(a)"
      ]
    },
    {
      "cell_type": "markdown",
      "metadata": {
        "id": "vK1-eD7ql6L5"
      },
      "source": [
        "#### Condicional if"
      ]
    },
    {
      "cell_type": "code",
      "execution_count": null,
      "metadata": {
        "id": "M709Qpkvl6L5",
        "outputId": "9e533dec-8da4-40d2-a62c-28b9c9ba0dab"
      },
      "outputs": [
        {
          "name": "stdout",
          "output_type": "stream",
          "text": [
            "A sentença é verdadeira!\n"
          ]
        }
      ],
      "source": [
        "# Condicional if (Se)\n",
        "if 5 > 2:\n",
        "    print(\"A sentença é verdadeira!\")"
      ]
    },
    {
      "cell_type": "code",
      "execution_count": null,
      "metadata": {
        "id": "-0U9D5AZl6L5",
        "outputId": "28468dde-36e5-402f-e781-b4dbcfa4416a"
      },
      "outputs": [
        {
          "name": "stdout",
          "output_type": "stream",
          "text": [
            "A sentença é falsa!\n"
          ]
        }
      ],
      "source": [
        "# Condicional if...else\n",
        "if 5 < 2:\n",
        "    print(\"A sentença é verdadeira!\")\n",
        "else:\n",
        "    print(\"A sentença é falsa!\")"
      ]
    },
    {
      "cell_type": "code",
      "execution_count": null,
      "metadata": {
        "id": "HL3_xZjRl6L6",
        "outputId": "82355786-2cd9-4c01-896a-68781dcabc8c"
      },
      "outputs": [
        {
          "name": "stdout",
          "output_type": "stream",
          "text": [
            "Hoje vai chover!\n"
          ]
        }
      ],
      "source": [
        "# Condicional if...else com variável\n",
        "dia = \"Quarta-feira\"\n",
        "if dia == \"Sexta-feira\":\n",
        "    print(\"Hoje fará sol!\")\n",
        "else:\n",
        "    print(\"Hoje vai chover!\")"
      ]
    },
    {
      "cell_type": "markdown",
      "metadata": {
        "id": "0xXUDU6Bl6L6"
      },
      "source": [
        "#### Manipulando arquivos"
      ]
    },
    {
      "cell_type": "markdown",
      "metadata": {
        "id": "urdQjrfHl6L6"
      },
      "source": [
        "##### Lendo arquivos (.txt)"
      ]
    },
    {
      "cell_type": "code",
      "execution_count": null,
      "metadata": {
        "id": "YkL-2tMNl6L6"
      },
      "outputs": [],
      "source": [
        "# Abrindo o arquivo para leitura\n",
        "a1 = open(\"arquivos/arquivo1_LIA1703.txt\", \"r\")"
      ]
    },
    {
      "cell_type": "code",
      "execution_count": null,
      "metadata": {
        "id": "vudIMr32l6L6",
        "outputId": "0fe5e106-cb4d-4c77-b007-72428c4246df"
      },
      "outputs": [
        {
          "name": "stdout",
          "output_type": "stream",
          "text": [
            "Aula de Python ao som de cortador de grama!\n"
          ]
        }
      ],
      "source": [
        "# Lendo o arquivo\n",
        "print(a1.read())"
      ]
    },
    {
      "cell_type": "markdown",
      "metadata": {
        "id": "wMS-ejtul6L6"
      },
      "source": [
        "##### Gravando arquivos (.txt)"
      ]
    },
    {
      "cell_type": "code",
      "execution_count": null,
      "metadata": {
        "id": "OyOQYMk5l6L6"
      },
      "outputs": [],
      "source": [
        "# Abrindo o arquivo para gravação\n",
        "a2 = open(\"arquivos/arquivo2_LIA1703.txt\", \"w\")"
      ]
    },
    {
      "cell_type": "code",
      "execution_count": null,
      "metadata": {
        "id": "wLSR3d32l6L7",
        "outputId": "6a2c495a-db34-465a-96c6-2ac6f05a8ff3"
      },
      "outputs": [
        {
          "data": {
            "text/plain": [
              "57"
            ]
          },
          "execution_count": 43,
          "metadata": {},
          "output_type": "execute_result"
        }
      ],
      "source": [
        "# Gravando no arquivo\n",
        "a2.write(\"Aprendendo Python em 2025/1 com novo projetor multimídia!\")"
      ]
    },
    {
      "cell_type": "code",
      "execution_count": null,
      "metadata": {
        "id": "smci_0uKl6L7"
      },
      "outputs": [],
      "source": [
        "# Abrindo o arquivo para leitura\n",
        "a2 = open(\"arquivos/arquivo2_LIA1703.txt\", \"r\")"
      ]
    },
    {
      "cell_type": "code",
      "execution_count": null,
      "metadata": {
        "id": "p1-T2yIWl6L7",
        "outputId": "44808f00-6a8d-4031-b9f8-3ef81985c87b"
      },
      "outputs": [
        {
          "name": "stdout",
          "output_type": "stream",
          "text": [
            "Aprendendo Python em 2025/1 com novo projetor multimídia!\n"
          ]
        }
      ],
      "source": [
        "# Imprimindo arquivo\n",
        "print(a2.read())"
      ]
    },
    {
      "cell_type": "code",
      "execution_count": null,
      "metadata": {
        "id": "IEsCX2gWl6L7"
      },
      "outputs": [],
      "source": []
    }
  ],
  "metadata": {
    "kernelspec": {
      "display_name": "Python 3 (ipykernel)",
      "language": "python",
      "name": "python3"
    },
    "language_info": {
      "codemirror_mode": {
        "name": "ipython",
        "version": 3
      },
      "file_extension": ".py",
      "mimetype": "text/x-python",
      "name": "python",
      "nbconvert_exporter": "python",
      "pygments_lexer": "ipython3",
      "version": "3.10.11"
    },
    "colab": {
      "provenance": [],
      "include_colab_link": true
    }
  },
  "nbformat": 4,
  "nbformat_minor": 0
}